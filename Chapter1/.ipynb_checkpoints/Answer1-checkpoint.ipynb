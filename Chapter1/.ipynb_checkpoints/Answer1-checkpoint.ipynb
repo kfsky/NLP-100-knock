{
 "cells": [
  {
   "cell_type": "code",
   "execution_count": 223,
   "metadata": {},
   "outputs": [],
   "source": [
    "import random\n",
    "# 00\n",
    "def reverse_str(word):\n",
    "    reversed_word = \"\".join(list(reversed(word)))\n",
    "    \n",
    "    return reversed_word\n",
    "\n",
    "# 01\n",
    "def pickup_word(word):\n",
    "    word_size = len(word)\n",
    "    pickup_list = []\n",
    "    \n",
    "    for i in range(0,word_size):\n",
    "        if i%2 ==0:\n",
    "            pickup_list.append(word[i])\n",
    "        else:\n",
    "            pass\n",
    "        \n",
    "    return \"\".join(pickup_list)\n",
    "\n",
    "# 02\n",
    "def merge_word(word1, word2):\n",
    "    word_size1 = len(word1)\n",
    "    word_size2 = len(word2)\n",
    "    merge_list=[]\n",
    "    \n",
    "    if word_size1 == word_size2:\n",
    "        for i in range(0,word_size1):\n",
    "            merge_list.append(word1[i])\n",
    "            merge_list.append(word2[i])\n",
    "            \n",
    "    else:\n",
    "        if word_size1>word_size2:\n",
    "            for i in range(0,word_size2):\n",
    "                merge_list.append(word1[i])\n",
    "                merge_list.append(word2[i])\n",
    "            merge_list.append(word1[word_size2:])\n",
    "        else:\n",
    "            for i in range(0,word_size1):\n",
    "                merge_list.append(word1[i])\n",
    "                merge_list.append(word2[i])\n",
    "            merge_list.append(word2[word_size1:])\n",
    "            \n",
    "    return \"\".join(merge_list)\n",
    "\n",
    "# 03\n",
    "def get_wordnum(seq):\n",
    "    seq=seq.replace(\",\",\"\")\n",
    "    seq=seq.replace(\".\",\"\")\n",
    "    \n",
    "    word_list = seq.split(\" \")\n",
    "    \n",
    "    count_list = []\n",
    "    for i in range(0,len(word_list)):\n",
    "        count_list.append(len(word_list[i]))\n",
    "    \n",
    "    return count_list\n",
    "\n",
    "# 04\n",
    "def get_symbols_for_element(seq):\n",
    "    pickup_list = [0, 4, 5, 6, 7, 8, 14, 15, 18]\n",
    "    \n",
    "    word_list = seq.split(\" \")\n",
    "    \n",
    "    symbols_for_element = dict()\n",
    "    for i in range(0, len(word_list)):\n",
    "        if i in pickup_list:\n",
    "            symbols_for_element[word_list[i][:1]] = i\n",
    "            \n",
    "        else:\n",
    "            symbols_for_element[word_list[i][:2]] = i\n",
    "            \n",
    "    return sorted(symbols_for_element.items(), key=lambda x:x[1])\n",
    "\n",
    "# 05\n",
    "def ngram(n, lst):\n",
    "  # ex.\n",
    "  # [str[i:] for i in range(2)] -> ['I am an NLPer', ' am an NLPer']\n",
    "  # zip(*[str[i:] for i in range(2)]) -> zip('I am an NLPer', ' am an NLPer')\n",
    "  return list(zip(*[lst[i:] for i in range(n)]))\n",
    "\n",
    "# 06\n",
    "def get_set(x, y):\n",
    "    X = set(ngram(2, x))\n",
    "    Y = set(ngram(2, y))\n",
    "    \n",
    "    union = X | Y\n",
    "    intersection = X & Y\n",
    "    difference = X - Y\n",
    "    print('X:', X)\n",
    "    print('Y:', Y)\n",
    "    print('和集合:', union)\n",
    "    print('積集合:', intersection)\n",
    "    print('差集合:', difference)\n",
    "    print('Xにseが含まれるか:', {('s', 'e')} <= X)\n",
    "    print('Yにseが含まれるか:', {('s', 'e')} <= Y)\n",
    "    \n",
    "# 07\n",
    "def get_template(x,y,z):\n",
    "    print(f\"{x}時の{y}は{z}\")\n",
    "    \n",
    "# 08\n",
    "def get_cryptography(word):\n",
    "    crypto_list =[]\n",
    "    \n",
    "    for i, charactor in enumerate(word):\n",
    "        if charactor.islower():\n",
    "            ord_w = ord(charactor)\n",
    "            convert_ord = 219-ord_w\n",
    "            crypto_list.append(chr(convert_ord))\n",
    "        else:\n",
    "            crypto_list.append(charactor)\n",
    "        \n",
    "    return \"\".join(crypto_list)\n",
    "\n",
    "# 09\n",
    "def TypoglycemiaPermalink(seq):\n",
    "    typogly_list = []\n",
    "    word_list = seq.split(\" \")\n",
    "    \n",
    "    for i, word in enumerate(word_list):\n",
    "        shuffle_list =[]\n",
    "        if len(word) > 4:\n",
    "            typogly_list.append(word[:1] + ''.join(random.sample(word[1:-1], len(word) - 2)) + word[-1:])\n",
    "        else:\n",
    "            typogly_list.append(word)\n",
    "            \n",
    "    return \" \".join(typogly_list)\n",
    "            "
   ]
  },
  {
   "cell_type": "code",
   "execution_count": 224,
   "metadata": {},
   "outputs": [
    {
     "data": {
      "text/plain": [
       "'desserts'"
      ]
     },
     "execution_count": 224,
     "metadata": {},
     "output_type": "execute_result"
    }
   ],
   "source": [
    "word0 = \"stressed\"\n",
    "reverse_str(word0)"
   ]
  },
  {
   "cell_type": "code",
   "execution_count": 225,
   "metadata": {},
   "outputs": [
    {
     "data": {
      "text/plain": [
       "'パトカー'"
      ]
     },
     "execution_count": 225,
     "metadata": {},
     "output_type": "execute_result"
    }
   ],
   "source": [
    "pickup_word(\"パタトクカシーー\")"
   ]
  },
  {
   "cell_type": "code",
   "execution_count": 226,
   "metadata": {},
   "outputs": [
    {
     "data": {
      "text/plain": [
       "'パタトクカシーー'"
      ]
     },
     "execution_count": 226,
     "metadata": {},
     "output_type": "execute_result"
    }
   ],
   "source": [
    "merge_word(\"パトカー\",\"タクシー\")"
   ]
  },
  {
   "cell_type": "code",
   "execution_count": 227,
   "metadata": {},
   "outputs": [
    {
     "data": {
      "text/plain": [
       "[3, 1, 4, 1, 5, 9, 2, 6, 5, 3, 5, 8, 9, 7, 9]"
      ]
     },
     "execution_count": 227,
     "metadata": {},
     "output_type": "execute_result"
    }
   ],
   "source": [
    "get_wordnum(\"Now I need a drink, alcoholic of course, after the heavy lectures involving quantum mechanics.\")"
   ]
  },
  {
   "cell_type": "code",
   "execution_count": 228,
   "metadata": {},
   "outputs": [
    {
     "data": {
      "text/plain": [
       "[('H', 0),\n",
       " ('He', 1),\n",
       " ('Li', 2),\n",
       " ('Be', 3),\n",
       " ('B', 4),\n",
       " ('C', 5),\n",
       " ('N', 6),\n",
       " ('O', 7),\n",
       " ('F', 8),\n",
       " ('Ne', 9),\n",
       " ('Na', 10),\n",
       " ('Mi', 11),\n",
       " ('Al', 12),\n",
       " ('Si', 13),\n",
       " ('P', 14),\n",
       " ('S', 15),\n",
       " ('Cl', 16),\n",
       " ('Ar', 17),\n",
       " ('K', 18),\n",
       " ('Ca', 19)]"
      ]
     },
     "execution_count": 228,
     "metadata": {},
     "output_type": "execute_result"
    }
   ],
   "source": [
    "get_symbols_for_element(\"Hi He Lied Because Boron Could Not Oxidize Fluorine. New Nations Might Also Sign Peace Security Clause. Arthur King Can.\")"
   ]
  },
  {
   "cell_type": "code",
   "execution_count": 229,
   "metadata": {},
   "outputs": [
    {
     "data": {
      "text/plain": [
       "[('I',), ('am',), ('an',), ('NLPer',)]"
      ]
     },
     "execution_count": 229,
     "metadata": {},
     "output_type": "execute_result"
    }
   ],
   "source": [
    "target = \"I am an NLPer\"\n",
    "ngram(1,target.split())"
   ]
  },
  {
   "cell_type": "code",
   "execution_count": 230,
   "metadata": {},
   "outputs": [
    {
     "name": "stdout",
     "output_type": "stream",
     "text": [
      "X: {('a', 'd'), ('a', 'r'), ('s', 'e'), ('a', 'p'), ('i', 's'), ('p', 'a'), ('d', 'i'), ('r', 'a')}\n",
      "Y: {('g', 'r'), ('a', 'r'), ('a', 'g'), ('p', 'h'), ('a', 'p'), ('p', 'a'), ('r', 'a')}\n",
      "和集合: {('a', 'd'), ('g', 'r'), ('a', 'r'), ('a', 'g'), ('p', 'h'), ('s', 'e'), ('a', 'p'), ('i', 's'), ('p', 'a'), ('d', 'i'), ('r', 'a')}\n",
      "積集合: {('a', 'r'), ('p', 'a'), ('a', 'p'), ('r', 'a')}\n",
      "差集合: {('i', 's'), ('d', 'i'), ('s', 'e'), ('a', 'd')}\n",
      "Xにseが含まれるか: True\n",
      "Yにseが含まれるか: False\n"
     ]
    }
   ],
   "source": [
    "x = 'paraparaparadise'\n",
    "y = 'paragraph'\n",
    "get_set(x,y)"
   ]
  },
  {
   "cell_type": "code",
   "execution_count": 231,
   "metadata": {},
   "outputs": [
    {
     "name": "stdout",
     "output_type": "stream",
     "text": [
      "12時の気温は22.4\n"
     ]
    }
   ],
   "source": [
    "x=12\n",
    "y=\"気温\"\n",
    "z=22.4\n",
    "get_template(x,y,z)"
   ]
  },
  {
   "cell_type": "code",
   "execution_count": 232,
   "metadata": {},
   "outputs": [
    {
     "name": "stdout",
     "output_type": "stream",
     "text": [
      "z xrksvirmt ilfgrmv\n",
      "a ciphering routine\n"
     ]
    }
   ],
   "source": [
    "word07 = \"a ciphering routine\"\n",
    "convert_word = get_cryptography(word07)\n",
    "reconvert_word = get_cryptography(convert_word)\n",
    "print(convert_word)\n",
    "print(reconvert_word)"
   ]
  },
  {
   "cell_type": "code",
   "execution_count": 233,
   "metadata": {},
   "outputs": [
    {
     "name": "stdout",
     "output_type": "stream",
     "text": [
      "abcde\n",
      "sed\n"
     ]
    }
   ],
   "source": [
    "a=\"abcde sed\"\n",
    "word_list = a.split(\" \")\n",
    "for i, word in enumerate(word_list):\n",
    "    print(word)"
   ]
  },
  {
   "cell_type": "code",
   "execution_count": 234,
   "metadata": {},
   "outputs": [
    {
     "data": {
      "text/plain": [
       "'I clnudo’t beivele that I culod altluacy unseatnrdd what I was raideng : the pnhenmoeal peowr of the haumn mind .'"
      ]
     },
     "execution_count": 234,
     "metadata": {},
     "output_type": "execute_result"
    }
   ],
   "source": [
    "seq09 = \"I couldn’t believe that I could actually understand what I was reading : the phenomenal power of the human mind .\"\n",
    "TypoglycemiaPermalink(seq09)"
   ]
  },
  {
   "cell_type": "code",
   "execution_count": null,
   "metadata": {},
   "outputs": [],
   "source": []
  }
 ],
 "metadata": {
  "kernelspec": {
   "display_name": "Python 3",
   "language": "python",
   "name": "python3"
  },
  "language_info": {
   "codemirror_mode": {
    "name": "ipython",
    "version": 3
   },
   "file_extension": ".py",
   "mimetype": "text/x-python",
   "name": "python",
   "nbconvert_exporter": "python",
   "pygments_lexer": "ipython3",
   "version": "3.7.4"
  }
 },
 "nbformat": 4,
 "nbformat_minor": 4
}
